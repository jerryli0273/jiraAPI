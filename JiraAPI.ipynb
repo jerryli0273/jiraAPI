{
 "cells": [
  {
   "cell_type": "markdown",
   "metadata": {},
   "source": [
    "<img src= \"http://www.voyagerconsulting.org/images/logo1.png\">"
   ]
  },
  {
   "cell_type": "markdown",
   "metadata": {},
   "source": [
    "# Voyager Consulting: Jira API"
   ]
  },
  {
   "cell_type": "markdown",
   "metadata": {},
   "source": [
    "## Import Libraries"
   ]
  },
  {
   "cell_type": "code",
   "execution_count": 1,
   "metadata": {},
   "outputs": [],
   "source": [
    "import requests\n",
    "import json\n",
    "import pandas as pd\n",
    "import time\n",
    "import datetime"
   ]
  },
  {
   "cell_type": "code",
   "execution_count": 2,
   "metadata": {},
   "outputs": [
    {
     "name": "stdout",
     "output_type": "stream",
     "text": [
      "Collecting package metadata (current_repodata.json): done\n",
      "Solving environment: done\n",
      "\n",
      "# All requested packages already installed.\n",
      "\n",
      "\n",
      "Note: you may need to restart the kernel to use updated packages.\n"
     ]
    }
   ],
   "source": [
    "conda install jira"
   ]
  },
  {
   "cell_type": "markdown",
   "metadata": {},
   "source": [
    "## Configurations"
   ]
  },
  {
   "cell_type": "code",
   "execution_count": 3,
   "metadata": {},
   "outputs": [],
   "source": [
    "from collections import Counter\n",
    "from jira import JIRA\n",
    "import matplotlib.pyplot as plt\n",
    "import numpy as np\n",
    "import pandas as pd\n",
    "import seaborn as sns"
   ]
  },
  {
   "cell_type": "code",
   "execution_count": null,
   "metadata": {},
   "outputs": [],
   "source": [
    "#Will connect to a Jira Instance started from the Atlassian Plugin SDK\n",
    "jira = JIRA(basic_auth=(\"admin\", \"admin\")) # a username/password tuple\n",
    "\n",
    "# Get the mutable application properties for this server (requires\n",
    "# jira-system-administrators permission)\n",
    "props = jira.application_properties()\n",
    "\n",
    "#Oauth\n",
    "key_cert_data = None\n",
    "with open(key_cert, 'r') as key_cert_file:\n",
    "    key_cert_data = key_cert_file.read()\n",
    "\n",
    "oauth_dict = {\n",
    "    'access_token': 'foo',\n",
    "    'access_token_secret': 'bar',\n",
    "    'consumer_key': 'jira-oauth-consumer',\n",
    "    'key_cert': key_cert_data\n",
    "}\n",
    "auth_jira = JIRA(oauth=oauth_dict)"
   ]
  },
  {
   "cell_type": "code",
   "execution_count": 14,
   "metadata": {},
   "outputs": [],
   "source": [
    "#Everything goes through the JIRA object\n",
    "jira = JIRA('https://plutotv.atlassian.net')"
   ]
  },
  {
   "cell_type": "markdown",
   "metadata": {},
   "source": [
    "## Issues"
   ]
  },
  {
   "cell_type": "markdown",
   "metadata": {},
   "source": [
    "### Getting Issues"
   ]
  },
  {
   "cell_type": "code",
   "execution_count": null,
   "metadata": {},
   "outputs": [],
   "source": [
    "issue = jira.issue('JRA-1330')\n",
    "\n",
    "#Get direct fields of issues\n",
    "summary = issue.fields.summary         # 'Field level security permissions'\n",
    "votes = issue.fields.votes.votes       # 440 (at least)\n",
    "\n",
    "#Get specific fields\n",
    "issue = jira.issue('JRA-1330', fields='summary,comment')"
   ]
  },
  {
   "cell_type": "markdown",
   "metadata": {},
   "source": [
    "### Searching Issues with JQL"
   ]
  },
  {
   "cell_type": "code",
   "execution_count": null,
   "metadata": {},
   "outputs": [],
   "source": [
    "# Search returns first 50 results, `maxResults` must be set to exceed this\n",
    "issues_in_proj = jira.search_issues('project=PROJ')\n",
    "all_proj_issues_but_mine = jira.search_issues('project=PROJ and assignee != currentUser()')\n",
    "\n",
    "# my top 5 issues due by the end of the week, ordered by priority\n",
    "oh_crap = jira.search_issues('assignee = currentUser() and due < endOfWeek() order by priority desc', maxResults=5)\n",
    "\n",
    "# Summaries of my last 3 reported issues\n",
    "for issue in jira.search_issues('reporter = currentUser() order by created desc', maxResults=3):\n",
    "    print('{}: {}'.format(issue.key, issue.fields.summary))"
   ]
  },
  {
   "cell_type": "markdown",
   "metadata": {},
   "source": [
    "## Projects"
   ]
  },
  {
   "cell_type": "code",
   "execution_count": null,
   "metadata": {},
   "outputs": [],
   "source": [
    "projects = jira.projects()\n",
    "jra = jira.project('JRA')\n",
    "print(jra.name)                 # 'JIRA'\n",
    "print(jra.lead.displayName)     # 'John Doe [ACME Inc.]'"
   ]
  },
  {
   "cell_type": "code",
   "execution_count": null,
   "metadata": {},
   "outputs": [],
   "source": [
    "##THESE ARE ALL UNDER THE JIRA OBJECT\n",
    "#boards\n",
    "#issue\n",
    "#sprint\n",
    "#sprint_info\n",
    "#sprints_by_name\n",
    "#statuscategories()\n",
    "#user"
   ]
  },
  {
   "cell_type": "markdown",
   "metadata": {},
   "source": [
    "## Something about visualizations"
   ]
  },
  {
   "cell_type": "code",
   "execution_count": null,
   "metadata": {},
   "outputs": [],
   "source": [
    "# Read data from Jira with changelog\n",
    "jira_search = jira.search_issues(jql, startAt=block_num*block_size, maxResults=block_size, \n",
    "                                 fields=\"issuetype, created, resolutiondate, reporter, assignee, status\", \n",
    "                                 expand='changelog')\n",
    "\n",
    "# Get information from changelog\n",
    "history_assignee = []\n",
    "histories = issue.raw['changelog'].get('histories', None)\n",
    "if histories is not None:\n",
    "    for history in histories:\n",
    "        for item in history['items']:\n",
    "            if item['field'] == 'assignee':\n",
    "                # Get history author, previous assignee, new assignee\n",
    "                history_author = history.get('author', None)\n",
    "                if history_author is not None:\n",
    "                    history_author = history_author['key']\n",
    "                history_assignee.append([history_author, item['from'], item['to'], datetime.strptime(history['created'][:19], \"%Y-%m-%dT%H:%M:%S\")])\n"
   ]
  }
 ],
 "metadata": {
  "kernelspec": {
   "display_name": "Python 3",
   "language": "python",
   "name": "python3"
  },
  "language_info": {
   "codemirror_mode": {
    "name": "ipython",
    "version": 3
   },
   "file_extension": ".py",
   "mimetype": "text/x-python",
   "name": "python",
   "nbconvert_exporter": "python",
   "pygments_lexer": "ipython3",
   "version": "3.7.6"
  }
 },
 "nbformat": 4,
 "nbformat_minor": 4
}
